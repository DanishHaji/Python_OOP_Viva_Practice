{
  "nbformat": 4,
  "nbformat_minor": 0,
  "metadata": {
    "colab": {
      "provenance": [],
      "authorship_tag": "ABX9TyOTDP4ROddjYbdCxXeUYbfU",
      "include_colab_link": true
    },
    "kernelspec": {
      "name": "python3",
      "display_name": "Python 3"
    },
    "language_info": {
      "name": "python"
    }
  },
  "cells": [
    {
      "cell_type": "markdown",
      "metadata": {
        "id": "view-in-github",
        "colab_type": "text"
      },
      "source": [
        "<a href=\"https://colab.research.google.com/github/DanishHaji/Python_OOP_Viva_Practice/blob/main/Pyhton_OOP_Practice.ipynb\" target=\"_parent\"><img src=\"https://colab.research.google.com/assets/colab-badge.svg\" alt=\"Open In Colab\"/></a>"
      ]
    },
    {
      "cell_type": "markdown",
      "source": [
        "# 1.Encapsulation"
      ],
      "metadata": {
        "id": "gu-bqaelfjpq"
      }
    },
    {
      "cell_type": "code",
      "source": [
        "class Dog:\n",
        "  def __init__(self,name):\n",
        "    self.__name = name\n",
        "\n",
        "  def get_name(self):   # Getter Name\n",
        "    return self.__name\n",
        "\n",
        "  def set_name(self, new_name):   # Setter Name\n",
        "    self.__name = new_name\n",
        "\n",
        "dog = Dog(\"Buddy\")\n",
        "print(\"Dog's name is:\", dog.get_name())\n",
        "\n",
        "dog.set_name = \"Rocky\"\n",
        "print(\"Dog's new name is:\", dog.get_name())"
      ],
      "metadata": {
        "colab": {
          "base_uri": "https://localhost:8080/"
        },
        "id": "Uu99-J8XIu8S",
        "outputId": "4bdb63da-45a1-4516-add5-31397324c8db"
      },
      "execution_count": 4,
      "outputs": [
        {
          "output_type": "stream",
          "name": "stdout",
          "text": [
            "Dog's name is: Buddy\n",
            "Dog's new name is: Buddy\n"
          ]
        }
      ]
    },
    {
      "cell_type": "code",
      "source": [
        "class Person:\n",
        "  def __init__(self,name,age):\n",
        "    self.__name = name\n",
        "    self.__age = age\n",
        "\n",
        "  def get_name(self):\n",
        "    return self.__name\n",
        "\n",
        "  def set_name(self, new_name):\n",
        "    self.__name = new_name\n",
        "\n",
        "  def get_age(self):\n",
        "    return self.__age\n",
        "\n",
        "  def set_age(self,age):\n",
        "    if age > 0:\n",
        "      self.__age = age\n",
        "    else:\n",
        "      print(\"Invalid age\")"
      ],
      "metadata": {
        "id": "9mI-ywF7NYzg"
      },
      "execution_count": 13,
      "outputs": []
    },
    {
      "cell_type": "code",
      "source": [
        "person = Person(\"Danish\", 30)\n",
        "print(\"The Person name is:\", person.get_name())\n",
        "print(\"The age is:\", person.get_age())\n",
        "\n",
        "person.set_name(\"Danish Haji\")\n",
        "print(\"The Person new name is:\", person.get_name())\n",
        "\n",
        "person.set_age(32)\n",
        "print(\"The new age is:\", person.get_age())\n",
        "\n",
        "person.set_age(-5)"
      ],
      "metadata": {
        "colab": {
          "base_uri": "https://localhost:8080/"
        },
        "id": "s32O4bdIPRLR",
        "outputId": "31579527-fabf-4aa8-aa14-ecb74025800f"
      },
      "execution_count": 16,
      "outputs": [
        {
          "output_type": "stream",
          "name": "stdout",
          "text": [
            "The Person name is: Danish\n",
            "The age is: 30\n",
            "The Person new name is: Danish Haji\n",
            "The new age is: 32\n",
            "Invalid age\n"
          ]
        }
      ]
    },
    {
      "cell_type": "code",
      "source": [
        "class BankAccount:\n",
        "  def __init__(self,account_number,balance=0):\n",
        "    self.__account_number = account_number\n",
        "    self.__balance = balance\n",
        "\n",
        "  def get_account_number(self):\n",
        "    return self.__account_number\n",
        "\n",
        "  def get_balance(self):\n",
        "    return self.__balance\n",
        "\n",
        "  def deposit(self,amount):\n",
        "    if amount > 0:\n",
        "      self.__balance += amount\n",
        "    else:\n",
        "      print(\"Invalid Deposite amount\")\n",
        "\n",
        "  def withdraw(self,amount):\n",
        "    if amount > 0 and amount <= self.__balance:\n",
        "      self.__balance -= amount\n",
        "    else:\n",
        "      print(\"Invalid Withdraw amount or insufficient balance\")\n",
        "\n"
      ],
      "metadata": {
        "id": "RqFIgAZHPqgX"
      },
      "execution_count": 17,
      "outputs": []
    },
    {
      "cell_type": "code",
      "source": [
        "account_holder = BankAccount(\"12345454\", 50000)\n",
        "print(\"The account number is:\", account_holder.get_account_number())\n",
        "print(\"The account balance is:\", account_holder.get_balance())\n",
        "\n",
        "\n",
        "account_holder.deposit(5000)\n",
        "print(\"The new account balance is:\", account_holder.get_balance())\n",
        "\n",
        "account_holder.withdraw(5000)\n",
        "print(\"The new account balance is:\", account_holder.get_balance())\n"
      ],
      "metadata": {
        "colab": {
          "base_uri": "https://localhost:8080/"
        },
        "id": "p6kS4SJ6bB9e",
        "outputId": "a5b51c50-ea4c-4e2f-b7b7-79f4d785231b"
      },
      "execution_count": 24,
      "outputs": [
        {
          "output_type": "stream",
          "name": "stdout",
          "text": [
            "The account number is: 12345454\n",
            "The account balance is: 50000\n",
            "The new account balance is: 55000\n",
            "The new account balance is: 50000\n"
          ]
        }
      ]
    },
    {
      "cell_type": "code",
      "source": [
        "# Question 1\n",
        "\n",
        "class Student:\n",
        "  #Constructor\n",
        "  def __init__(self,name,marks): # Attributes\n",
        "    self.__name = name\n",
        "    self.__marks = marks\n",
        "\n",
        "  # Methods\n",
        "  def get_name(self):\n",
        "    return self.__name\n",
        "\n",
        "  def set_name(self,new_name):\n",
        "    self.__name = new_name\n",
        "\n",
        "  def get_marks(self):\n",
        "    return self.__marks\n",
        "\n",
        "  def set_marks(self,marks):\n",
        "    if 0 <= marks <= 100:\n",
        "      self.__marks = marks\n",
        "    else:\n",
        "      print(\"Invalid marks\")\n"
      ],
      "metadata": {
        "id": "2eFBkEs5daWe"
      },
      "execution_count": 25,
      "outputs": []
    },
    {
      "cell_type": "code",
      "source": [
        "student1 = Student(\"Ali\", 85)\n",
        "student2 = Student(\"Danish\",90)\n",
        "\n",
        "print(student1.get_name())\n",
        "print(student1.get_marks())\n",
        "student1.set_marks(50)\n",
        "print(student1.get_marks())\n",
        "\n",
        "\n",
        "print(student2.get_name())\n",
        "print(student2.get_marks())\n",
        "student2.set_marks(60)\n",
        "print(student2.get_marks())"
      ],
      "metadata": {
        "colab": {
          "base_uri": "https://localhost:8080/"
        },
        "id": "dfLNqHD3fxTN",
        "outputId": "ed4a1298-cbf8-4883-9603-bf335099e7a0"
      },
      "execution_count": 36,
      "outputs": [
        {
          "output_type": "stream",
          "name": "stdout",
          "text": [
            "Ali\n",
            "85\n",
            "50\n",
            "Danish\n",
            "90\n",
            "60\n"
          ]
        }
      ]
    },
    {
      "cell_type": "code",
      "source": [
        "# Question 2\n",
        "\n",
        "class Book:\n",
        "\n",
        "  # Constructor\n",
        "  def __init__(self,title,author,price):\n",
        "    self.__title = title\n",
        "    self.__author = author\n",
        "    self.__price = price\n",
        "\n",
        "  # Methods\n",
        "  def get_title(self): # Getter\n",
        "    return self.__title\n",
        "\n",
        "  def set_title(self, new_title):  # Setter\n",
        "    self.__title = new_title\n",
        "\n",
        "  def get_author(self):  # Getter\n",
        "    return self.__author\n",
        "\n",
        "  def set_author(self,new_author):   # Setter\n",
        "    self.__author = new_author\n",
        "\n",
        "  def get_price(self):  # Getter\n",
        "    return self.__price\n",
        "\n",
        "  def set_price(self, price):   # Setter\n",
        "    if price > 0:\n",
        "      self.__price = price\n",
        "    else:\n",
        "      print(\"Invalid Price\")\n"
      ],
      "metadata": {
        "id": "9yRKzijLqBY2"
      },
      "execution_count": 37,
      "outputs": []
    },
    {
      "cell_type": "code",
      "source": [
        "book1 = Book(\"Harry Potter\", \"JK Rowlling\", 150)\n",
        "print(\"Book Title:\", book1.get_title())\n",
        "print(\"Book Author:\", book1.get_author())\n",
        "print(\"Book Price:\", book1.get_price())\n",
        "\n",
        "book1.set_title(\"The Vell\")\n",
        "print(\"New Book Title:\", book1.get_title())\n",
        "\n",
        "book1.set_author(\"Danish Haji\")\n",
        "print(\"New Book Author:\", book1.get_author())\n",
        "\n",
        "book1.set_price(200)\n",
        "print(\"New Book Price:\", book1.get_price())\n"
      ],
      "metadata": {
        "colab": {
          "base_uri": "https://localhost:8080/"
        },
        "id": "pwRufeMYtfWt",
        "outputId": "d248a472-4da1-4fdb-f823-26a910b2df3b"
      },
      "execution_count": 48,
      "outputs": [
        {
          "output_type": "stream",
          "name": "stdout",
          "text": [
            "Book Title: Harry Potter\n",
            "Book Author: JK Rowlling\n",
            "Book Price: 150\n",
            "New Book Title: The Vell\n",
            "New Book Author: Danish Haji\n",
            "New Book Price: 200\n"
          ]
        }
      ]
    },
    {
      "cell_type": "code",
      "source": [
        "# Advance question 3\n",
        "\n",
        "class Employee:\n",
        "  # Constructor\n",
        "  def __init__(self,name,position,salary): # Propertis\n",
        "    self.__name = name                     # Private Attributes\n",
        "    self.__position = position             # Private Attributes\n",
        "    self.__salary = salary                 # Private Attributes\n",
        "\n",
        "  # Methods\n",
        "  def get_name(self):\n",
        "    return self.__name\n",
        "\n",
        "  def get_position(self):\n",
        "    return self.__position\n",
        "\n",
        "  def get_salary(self):\n",
        "    return self.__salary\n",
        "\n",
        "  def set_name(self,new_name):\n",
        "    self.__name = new_name\n",
        "\n",
        "  def set_position(self,new_position):\n",
        "    self.__position = new_position\n",
        "\n",
        "  def set_salary(self,new_salary):\n",
        "    if new_salary >= 15000:\n",
        "      self.__salary = new_salary\n",
        "    else:\n",
        "      print(\"Salary too low\")\n",
        "\n",
        "  def apply_bonus(self,percentage):\n",
        "    if percentage > 0:\n",
        "      bonus_amount = self.__salary * (percentage/100)\n",
        "      self.__salary += bonus_amount\n",
        "    else:\n",
        "      print(\"Invalid Bonus Percentage\")\n",
        ""
      ],
      "metadata": {
        "id": "Q0L-G8kd1Ei-"
      },
      "execution_count": 3,
      "outputs": []
    },
    {
      "cell_type": "code",
      "source": [
        "employee = Employee(\"Danish\",\"GM\", 150000)\n",
        "print(employee.get_name())\n",
        "print(employee.get_position())\n",
        "print(employee.get_salary())\n",
        "\n",
        "employee.set_name(\"Danish Haji\")\n",
        "print(employee.get_name())\n",
        "\n",
        "employee.set_position(\"CEO\")\n",
        "print(employee.get_position())\n",
        "\n",
        "employee.set_salary(250000)\n",
        "print(employee.get_salary())\n",
        "\n",
        "employee.apply_bonus(20)\n",
        "print(employee.get_salary())"
      ],
      "metadata": {
        "colab": {
          "base_uri": "https://localhost:8080/"
        },
        "id": "eH03d71w45qI",
        "outputId": "02a7325c-c254-43bf-dfc7-b448e26b6ac1"
      },
      "execution_count": 9,
      "outputs": [
        {
          "output_type": "stream",
          "name": "stdout",
          "text": [
            "Danish\n",
            "GM\n",
            "150000\n",
            "Danish Haji\n",
            "CEO\n",
            "250000\n",
            "300000.0\n"
          ]
        }
      ]
    },
    {
      "cell_type": "code",
      "source": [],
      "metadata": {
        "id": "fjxKGHXfGKD3"
      },
      "execution_count": null,
      "outputs": []
    }
  ]
}