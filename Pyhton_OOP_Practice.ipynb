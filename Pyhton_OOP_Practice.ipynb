{
  "nbformat": 4,
  "nbformat_minor": 0,
  "metadata": {
    "colab": {
      "provenance": [],
      "authorship_tag": "ABX9TyPjKutGXHYCvHkUHj7CgKjZ",
      "include_colab_link": true
    },
    "kernelspec": {
      "name": "python3",
      "display_name": "Python 3"
    },
    "language_info": {
      "name": "python"
    }
  },
  "cells": [
    {
      "cell_type": "markdown",
      "metadata": {
        "id": "view-in-github",
        "colab_type": "text"
      },
      "source": [
        "<a href=\"https://colab.research.google.com/github/DanishHaji/Python_OOP_Viva_Practice/blob/main/Pyhton_OOP_Practice.ipynb\" target=\"_parent\"><img src=\"https://colab.research.google.com/assets/colab-badge.svg\" alt=\"Open In Colab\"/></a>"
      ]
    },
    {
      "cell_type": "markdown",
      "source": [
        "# 1.Encapsulation"
      ],
      "metadata": {
        "id": "gu-bqaelfjpq"
      }
    },
    {
      "cell_type": "code",
      "source": [
        "class Dog:\n",
        "  def __init__(self,name):\n",
        "    self.__name = name\n",
        "\n",
        "  def get_name(self):   # Getter Name\n",
        "    return self.__name\n",
        "\n",
        "  def set_name(self, new_name):   # Setter Name\n",
        "    self.__name = new_name\n",
        "\n",
        "dog = Dog(\"Buddy\")\n",
        "print(\"Dog's name is:\", dog.get_name())\n",
        "\n",
        "dog.set_name = \"Rocky\"\n",
        "print(\"Dog's new name is:\", dog.get_name())"
      ],
      "metadata": {
        "colab": {
          "base_uri": "https://localhost:8080/"
        },
        "id": "Uu99-J8XIu8S",
        "outputId": "4bdb63da-45a1-4516-add5-31397324c8db"
      },
      "execution_count": 4,
      "outputs": [
        {
          "output_type": "stream",
          "name": "stdout",
          "text": [
            "Dog's name is: Buddy\n",
            "Dog's new name is: Buddy\n"
          ]
        }
      ]
    },
    {
      "cell_type": "code",
      "source": [
        "class Person:\n",
        "  def __init__(self,name,age):\n",
        "    self.__name = name\n",
        "    self.__age = age\n",
        "\n",
        "  def get_name(self):\n",
        "    return self.__name\n",
        "\n",
        "  def set_name(self, new_name):\n",
        "    self.__name = new_name\n",
        "\n",
        "  def get_age(self):\n",
        "    return self.__age\n",
        "\n",
        "  def set_age(self,age):\n",
        "    if age > 0:\n",
        "      self.__age = age\n",
        "    else:\n",
        "      print(\"Invalid age\")"
      ],
      "metadata": {
        "id": "9mI-ywF7NYzg"
      },
      "execution_count": 13,
      "outputs": []
    },
    {
      "cell_type": "code",
      "source": [
        "person = Person(\"Danish\", 30)\n",
        "print(\"The Person name is:\", person.get_name())\n",
        "print(\"The age is:\", person.get_age())\n",
        "\n",
        "person.set_name(\"Danish Haji\")\n",
        "print(\"The Person new name is:\", person.get_name())\n",
        "\n",
        "person.set_age(32)\n",
        "print(\"The new age is:\", person.get_age())\n",
        "\n",
        "person.set_age(-5)"
      ],
      "metadata": {
        "colab": {
          "base_uri": "https://localhost:8080/"
        },
        "id": "s32O4bdIPRLR",
        "outputId": "31579527-fabf-4aa8-aa14-ecb74025800f"
      },
      "execution_count": 16,
      "outputs": [
        {
          "output_type": "stream",
          "name": "stdout",
          "text": [
            "The Person name is: Danish\n",
            "The age is: 30\n",
            "The Person new name is: Danish Haji\n",
            "The new age is: 32\n",
            "Invalid age\n"
          ]
        }
      ]
    },
    {
      "cell_type": "code",
      "source": [
        "class BankAccount:\n",
        "  def __init__(self,account_number,balance=0):\n",
        "    self.__account_number = account_number\n",
        "    self.__balance = balance\n",
        "\n",
        "  def get_account_number(self):\n",
        "    return self.__account_number\n",
        "\n",
        "  def get_balance(self):\n",
        "    return self.__balance\n",
        "\n",
        "  def deposit(self,amount):\n",
        "    if amount > 0:\n",
        "      self.__balance += amount\n",
        "    else:\n",
        "      print(\"Invalid Deposite amount\")\n",
        "\n",
        "  def withdraw(self,amount):\n",
        "    if amount > 0 and amount <= self.__balance:\n",
        "      self.__balance -= amount\n",
        "    else:\n",
        "      print(\"Invalid Withdraw amount or insufficient balance\")\n",
        "\n"
      ],
      "metadata": {
        "id": "RqFIgAZHPqgX"
      },
      "execution_count": 17,
      "outputs": []
    },
    {
      "cell_type": "code",
      "source": [
        "account_holder = BankAccount(\"12345454\", 50000)\n",
        "print(\"The account number is:\", account_holder.get_account_number())\n",
        "print(\"The account balance is:\", account_holder.get_balance())\n",
        "\n",
        "\n",
        "account_holder.deposit(5000)\n",
        "print(\"The new account balance is:\", account_holder.get_balance())\n",
        "\n",
        "account_holder.withdraw(5000)\n",
        "print(\"The new account balance is:\", account_holder.get_balance())\n"
      ],
      "metadata": {
        "colab": {
          "base_uri": "https://localhost:8080/"
        },
        "id": "p6kS4SJ6bB9e",
        "outputId": "a5b51c50-ea4c-4e2f-b7b7-79f4d785231b"
      },
      "execution_count": 24,
      "outputs": [
        {
          "output_type": "stream",
          "name": "stdout",
          "text": [
            "The account number is: 12345454\n",
            "The account balance is: 50000\n",
            "The new account balance is: 55000\n",
            "The new account balance is: 50000\n"
          ]
        }
      ]
    },
    {
      "cell_type": "code",
      "source": [
        "# Question 1\n",
        "\n",
        "class Student:\n",
        "  #Constructor\n",
        "  def __init__(self,name,marks): # Attributes\n",
        "    self.__name = name\n",
        "    self.__marks = marks\n",
        "\n",
        "  # Methods\n",
        "  def get_name(self):\n",
        "    return self.__name\n",
        "\n",
        "  def set_name(self,new_name):\n",
        "    self.__name = new_name\n",
        "\n",
        "  def get_marks(self):\n",
        "    return self.__marks\n",
        "\n",
        "  def set_marks(self,marks):\n",
        "    if 0 <= marks <= 100:\n",
        "      self.__marks = marks\n",
        "    else:\n",
        "      print(\"Invalid marks\")\n"
      ],
      "metadata": {
        "id": "2eFBkEs5daWe"
      },
      "execution_count": 25,
      "outputs": []
    },
    {
      "cell_type": "code",
      "source": [
        "student1 = Student(\"Ali\", 85)\n",
        "student2 = Student(\"Danish\",90)\n",
        "\n",
        "print(student1.get_name())\n",
        "print(student1.get_marks())\n",
        "student1.set_marks(50)\n",
        "print(student1.get_marks())\n",
        "\n",
        "\n",
        "print(student2.get_name())\n",
        "print(student2.get_marks())\n",
        "student2.set_marks(60)\n",
        "print(student2.get_marks())"
      ],
      "metadata": {
        "colab": {
          "base_uri": "https://localhost:8080/"
        },
        "id": "dfLNqHD3fxTN",
        "outputId": "ed4a1298-cbf8-4883-9603-bf335099e7a0"
      },
      "execution_count": 36,
      "outputs": [
        {
          "output_type": "stream",
          "name": "stdout",
          "text": [
            "Ali\n",
            "85\n",
            "50\n",
            "Danish\n",
            "90\n",
            "60\n"
          ]
        }
      ]
    },
    {
      "cell_type": "code",
      "source": [
        "# Question 2\n",
        "\n",
        "class Book:\n",
        "\n",
        "  # Constructor\n",
        "  def __init__(self,title,author,price):\n",
        "    self.__title = title\n",
        "    self.__author = author\n",
        "    self.__price = price\n",
        "\n",
        "  # Methods\n",
        "  def get_title(self): # Getter\n",
        "    return self.__title\n",
        "\n",
        "  def set_title(self, new_title):  # Setter\n",
        "    self.__title = new_title\n",
        "\n",
        "  def get_author(self):  # Getter\n",
        "    return self.__author\n",
        "\n",
        "  def set_author(self,new_author):   # Setter\n",
        "    self.__author = new_author\n",
        "\n",
        "  def get_price(self):  # Getter\n",
        "    return self.__price\n",
        "\n",
        "  def set_price(self, price):   # Setter\n",
        "    if price > 0:\n",
        "      self.__price = price\n",
        "    else:\n",
        "      print(\"Invalid Price\")\n"
      ],
      "metadata": {
        "id": "9yRKzijLqBY2"
      },
      "execution_count": 37,
      "outputs": []
    },
    {
      "cell_type": "code",
      "source": [
        "book1 = Book(\"Harry Potter\", \"JK Rowlling\", 150)\n",
        "print(\"Book Title:\", book1.get_title())\n",
        "print(\"Book Author:\", book1.get_author())\n",
        "print(\"Book Price:\", book1.get_price())\n",
        "\n",
        "book1.set_title(\"The Vell\")\n",
        "print(\"New Book Title:\", book1.get_title())\n",
        "\n",
        "book1.set_author(\"Danish Haji\")\n",
        "print(\"New Book Author:\", book1.get_author())\n",
        "\n",
        "book1.set_price(200)\n",
        "print(\"New Book Price:\", book1.get_price())\n"
      ],
      "metadata": {
        "colab": {
          "base_uri": "https://localhost:8080/"
        },
        "id": "pwRufeMYtfWt",
        "outputId": "d248a472-4da1-4fdb-f823-26a910b2df3b"
      },
      "execution_count": 48,
      "outputs": [
        {
          "output_type": "stream",
          "name": "stdout",
          "text": [
            "Book Title: Harry Potter\n",
            "Book Author: JK Rowlling\n",
            "Book Price: 150\n",
            "New Book Title: The Vell\n",
            "New Book Author: Danish Haji\n",
            "New Book Price: 200\n"
          ]
        }
      ]
    },
    {
      "cell_type": "code",
      "source": [
        "# Advance question 3\n",
        "\n",
        "class Employee:\n",
        "  # Constructor\n",
        "  def __init__(self,name,position,salary): # Propertis\n",
        "    self.__name = name                     # Private Attributes\n",
        "    self.__position = position             # Private Attributes\n",
        "    self.__salary = salary                 # Private Attributes\n",
        "\n",
        "  # Methods\n",
        "  def get_name(self):\n",
        "    return self.__name\n",
        "\n",
        "  def get_position(self):\n",
        "    return self.__position\n",
        "\n",
        "  def get_salary(self):\n",
        "    return self.__salary\n",
        "\n",
        "  def set_name(self,new_name):\n",
        "    self.__name = new_name\n",
        "\n",
        "  def set_position(self,new_position):\n",
        "    self.__position = new_position\n",
        "\n",
        "  def set_salary(self,new_salary):\n",
        "    if new_salary >= 15000:\n",
        "      self.__salary = new_salary\n",
        "    else:\n",
        "      print(\"Salary too low\")\n",
        "\n",
        "  def apply_bonus(self,percentage):\n",
        "    if percentage > 0:\n",
        "      bonus_amount = self.__salary * (percentage/100)\n",
        "      self.__salary += bonus_amount\n",
        "    else:\n",
        "      print(\"Invalid Bonus Percentage\")\n",
        ""
      ],
      "metadata": {
        "id": "Q0L-G8kd1Ei-"
      },
      "execution_count": 3,
      "outputs": []
    },
    {
      "cell_type": "code",
      "source": [
        "employee = Employee(\"Danish\",\"GM\", 150000)\n",
        "print(employee.get_name())\n",
        "print(employee.get_position())\n",
        "print(employee.get_salary())\n",
        "\n",
        "employee.set_name(\"Danish Haji\")\n",
        "print(employee.get_name())\n",
        "\n",
        "employee.set_position(\"CEO\")\n",
        "print(employee.get_position())\n",
        "\n",
        "employee.set_salary(250000)\n",
        "print(employee.get_salary())\n",
        "\n",
        "employee.apply_bonus(20)\n",
        "print(employee.get_salary())"
      ],
      "metadata": {
        "colab": {
          "base_uri": "https://localhost:8080/"
        },
        "id": "eH03d71w45qI",
        "outputId": "02a7325c-c254-43bf-dfc7-b448e26b6ac1"
      },
      "execution_count": 9,
      "outputs": [
        {
          "output_type": "stream",
          "name": "stdout",
          "text": [
            "Danish\n",
            "GM\n",
            "150000\n",
            "Danish Haji\n",
            "CEO\n",
            "250000\n",
            "300000.0\n"
          ]
        }
      ]
    },
    {
      "cell_type": "code",
      "source": [
        "class BankAccount1:\n",
        "  def __init__(self,account_number,account_holder,balance=0):\n",
        "    self.__account_number = account_number\n",
        "    self.__account_holder = account_holder\n",
        "    self.__transaction = []\n",
        "    self.__balance = balance\n",
        "\n",
        "  # Methods\n",
        "\n",
        "  def get_account_number(self):\n",
        "    return self.__account_number\n",
        "\n",
        "  def get_account_holder(self):\n",
        "    return self.__account_holder\n",
        "\n",
        "  def get_transaction_history(self):\n",
        "    return self.__transaction\n",
        "\n",
        "  def get_balance(self):\n",
        "    return self.__balance\n",
        "\n",
        "  def deposit(self,amount):\n",
        "    if amount > 0:\n",
        "      self.__balance += amount\n",
        "      self.__transaction.append(f\"Deposited: {amount}\")\n",
        "    else:\n",
        "      print(\"Invalid deposit amount\")\n",
        "\n",
        "  def withdraw(self,amount):\n",
        "    if amount > 0 and amount <= self.__balance:\n",
        "      self.__balance -= amount\n",
        "      self.__transaction.append(f\"Widthdraw: {amount}\")\n",
        "    else:\n",
        "      print(\"Insufficient funds\")\n"
      ],
      "metadata": {
        "id": "fjxKGHXfGKD3"
      },
      "execution_count": 12,
      "outputs": []
    },
    {
      "cell_type": "code",
      "source": [
        "acc = BankAccount1(\"123\", \"Danish\")\n",
        "\n",
        "acc.deposit(500)\n",
        "acc.withdraw(200)\n",
        "acc.withdraw(1000)\n",
        "\n",
        "print(acc.get_balance())\n",
        "print(acc.get_transaction_history())"
      ],
      "metadata": {
        "colab": {
          "base_uri": "https://localhost:8080/"
        },
        "id": "IEPhUEhuvo6v",
        "outputId": "5933ec2c-d36d-4452-8210-40b96090e795"
      },
      "execution_count": 14,
      "outputs": [
        {
          "output_type": "stream",
          "name": "stdout",
          "text": [
            "Insufficient funds\n",
            "300\n",
            "['Deposited: 500', 'Widthdraw: 200']\n"
          ]
        }
      ]
    },
    {
      "cell_type": "markdown",
      "source": [
        "# 2.Abstraction"
      ],
      "metadata": {
        "id": "VE4EcPyWxMwm"
      }
    },
    {
      "cell_type": "code",
      "source": [
        "# General Question\n",
        "\n",
        "from abc import ABC, abstractmethod\n",
        "\n",
        "# Abstract base class\n",
        "class Shape(ABC):\n",
        "\n",
        "  @abstractmethod\n",
        "  def area(self):\n",
        "    pass\n",
        "\n",
        "  @abstractmethod\n",
        "  def perimeter(self):\n",
        "    pass\n",
        "\n",
        "# Concrete class\n",
        "class Rectangle(Shape):\n",
        "  def __init__(self,length,width):\n",
        "    self.length = length\n",
        "    self.width = width\n",
        "\n",
        "  def area(self):\n",
        "    return self.width * self.length\n",
        "\n",
        "  def perimeter(self):\n",
        "    return 2 * (self.length + self.width)\n"
      ],
      "metadata": {
        "id": "MF1fIMmoxTQx"
      },
      "execution_count": 19,
      "outputs": []
    },
    {
      "cell_type": "code",
      "source": [
        "rect = Rectangle(10,5)\n",
        "print(\"Area\", rect.area())\n",
        "print(\"Perimeter\", rect.perimeter())"
      ],
      "metadata": {
        "colab": {
          "base_uri": "https://localhost:8080/"
        },
        "id": "256UTJuazYeo",
        "outputId": "fe39dff8-a381-42e4-83fb-630a30d624f6"
      },
      "execution_count": 18,
      "outputs": [
        {
          "output_type": "stream",
          "name": "stdout",
          "text": [
            "Area 50\n",
            "Perimeter 30\n"
          ]
        }
      ]
    },
    {
      "cell_type": "code",
      "source": [
        "# Advanve Question\n",
        "\n",
        "from abc import ABC, abstractmethod\n",
        "\n",
        "class Vehicle(ABC):\n",
        "  def __init__(self,brand):\n",
        "    self.brand = brand\n",
        "\n",
        "  @abstractmethod\n",
        "  def start_engine(self):\n",
        "    pass\n",
        "\n",
        "  @abstractmethod\n",
        "  def stop_engine(self):\n",
        "    pass\n",
        "\n",
        "  def get_brand(self):\n",
        "    return self.brand\n",
        "\n",
        "# Concrete class\n",
        "class Car(Vehicle):\n",
        "  def start_engine(self):\n",
        "    return f\"{self.brand} car engine started\"\n",
        "\n",
        "  def stop_engine(self):\n",
        "    return f\"{self.brand} car engine stopped\""
      ],
      "metadata": {
        "id": "JvvQ2L9UzytJ"
      },
      "execution_count": 20,
      "outputs": []
    },
    {
      "cell_type": "code",
      "source": [
        "car = Car(\"Honda\")\n",
        "print(car.start_engine())\n",
        "print(car.stop_engine())"
      ],
      "metadata": {
        "colab": {
          "base_uri": "https://localhost:8080/"
        },
        "id": "h1iv6W4W1VTz",
        "outputId": "34aa32c5-6daa-4eb5-ddec-2f0c361a412f"
      },
      "execution_count": 21,
      "outputs": [
        {
          "output_type": "stream",
          "name": "stdout",
          "text": [
            "Honda car engine started\n",
            "Honda car engine stopped\n"
          ]
        }
      ]
    },
    {
      "cell_type": "code",
      "source": [
        "# Queston 1\n",
        "\n",
        "from abc import ABC, abstractmethod\n",
        "import math\n",
        "\n",
        "class Shape(ABC):\n",
        "\n",
        "  @abstractmethod\n",
        "  def area(self):\n",
        "    pass\n",
        "\n",
        "  @abstractmethod\n",
        "  def perimeter(self):\n",
        "    pass\n",
        "\n",
        "# Concrete class\n",
        "\n",
        "class Circle(Shape):\n",
        "  def __init__(self,radius):\n",
        "    self.radius = radius\n",
        "\n",
        "  def area(self):\n",
        "    return math.pi * (self.radius ** 2)\n",
        "\n",
        "  def perimeter(self):\n",
        "    return math.pi * 2 * self.radius\n",
        "\n",
        "class Rectangle(Shape):\n",
        "  def __init__(self,length, width):\n",
        "    self.length = length\n",
        "    self.width = width\n",
        "\n",
        "  def area(self):\n",
        "    return self.length * self.width\n",
        "\n",
        "  def perimeter(self):\n",
        "    return 2 * (self.length + self.width)\n"
      ],
      "metadata": {
        "id": "2ZorbHWK4eIv"
      },
      "execution_count": 23,
      "outputs": []
    },
    {
      "cell_type": "code",
      "source": [
        "circle = Circle(5)\n",
        "print(\"Circle area:\", circle.area())\n",
        "print(\"Circle perimeter:\", circle.perimeter())\n",
        "\n",
        "rect = Rectangle(10, 4)\n",
        "print(\"Rectangle area:\", rect.area())\n",
        "print(\"Rectangle perimeter:\", rect.perimeter())\n"
      ],
      "metadata": {
        "colab": {
          "base_uri": "https://localhost:8080/"
        },
        "id": "qXIDZrWr9gdE",
        "outputId": "2a4ad9b6-a2cd-4922-d8fd-aabad2150600"
      },
      "execution_count": 24,
      "outputs": [
        {
          "output_type": "stream",
          "name": "stdout",
          "text": [
            "Circle area: 78.53981633974483\n",
            "Circle perimeter: 31.41592653589793\n",
            "Rectangle area: 40\n",
            "Rectangle perimeter: 28\n"
          ]
        }
      ]
    },
    {
      "cell_type": "code",
      "source": [
        "# Question 2 (Advance Question)\n",
        "\n",
        "from abc import ABC, abstractmethod\n",
        "\n",
        "class Employee(ABC):\n",
        "  def __init__(self, name):\n",
        "    self.name = name\n",
        "\n",
        "  @abstractmethod\n",
        "  def calculate_salary(self):\n",
        "    pass\n",
        "\n",
        "  @abstractmethod\n",
        "  def get_role(self):\n",
        "    pass\n",
        "\n",
        "class Manager(Employee):\n",
        "  def __init__(self,name,monthly_salary):\n",
        "    super().__init__(name)\n",
        "    self.monthly_salary = monthly_salary\n",
        "\n",
        "  def calculate_salary(self):\n",
        "    return self.monthly_salary\n",
        "\n",
        "  def get_role(self):\n",
        "    return \"Manager\"\n",
        "\n",
        "class Developer(Employee):\n",
        "  def __init__(self,name,hourly_rate,hours_worked):\n",
        "    super().__init__(name)\n",
        "    self.hourly_rate = hourly_rate\n",
        "    self.hours_worked = hours_worked\n",
        "\n",
        "  def calculate_salary(self):\n",
        "    return self.hourly_rate * self.hours_worked\n",
        "\n",
        "  def get_role(self):\n",
        "    return \"Developer\""
      ],
      "metadata": {
        "id": "fwedfw-c9pwi"
      },
      "execution_count": 28,
      "outputs": []
    },
    {
      "cell_type": "code",
      "source": [
        "d = Developer(\"Danish\", 2000, 180)\n",
        "m = Manager(\"Huzaifa\", 150000)\n",
        "\n",
        "for emp in (d, m):\n",
        "  print(f\"{emp.name} ({emp.get_role()}): {emp.calculate_salary()} PKR\")"
      ],
      "metadata": {
        "colab": {
          "base_uri": "https://localhost:8080/"
        },
        "id": "1zTMKl70HHtL",
        "outputId": "d72c099f-3966-4798-f385-22c4824295c2"
      },
      "execution_count": 29,
      "outputs": [
        {
          "output_type": "stream",
          "name": "stdout",
          "text": [
            "Danish (Developer): 360000 PKR\n",
            "Huzaifa (Manager): 150000 PKR\n"
          ]
        }
      ]
    },
    {
      "cell_type": "code",
      "source": [
        "# Question 3 (Advance Question)\n",
        "\n",
        "from abc import ABC, abstractmethod\n",
        "\n",
        "class PaymentMethod(ABC):\n",
        "\n",
        "  @abstractmethod\n",
        "  def pay(amount: float) -> float:\n",
        "    pass\n",
        "\n",
        "class CreditCarPayment(PaymentMethod):\n",
        "  def pay(self,amount:float) -> float:\n",
        "    fee_percent = 0.025\n",
        "    fee = amount * fee_percent\n",
        "    total = amount + fee\n",
        "    return total\n",
        "\n",
        "class PayPalPayment(PaymentMethod):\n",
        "  def pay(self,amount:float) -> float:\n",
        "    flat_fee = 15\n",
        "    percent_fee = 0.03\n",
        "    fee = flat_fee + (amount * percent_fee)\n",
        "    total = amount + fee\n",
        "    return total\n",
        "\n",
        "if __name__ == \"__main__\":\n",
        "  cc = CreditCarPayment()\n",
        "  pp = PayPalPayment()\n",
        "\n",
        "  amt = 1000\n",
        "  print(f\"credit Card Payment: {cc.pay(amt)} PKR\")\n",
        "  print(f\"PayPal Payment: {pp.pay(amt)} PKR\")\n"
      ],
      "metadata": {
        "colab": {
          "base_uri": "https://localhost:8080/"
        },
        "id": "np9No-K0JSOQ",
        "outputId": "f95a213f-3175-4db9-b28f-e5b8912ec114"
      },
      "execution_count": 30,
      "outputs": [
        {
          "output_type": "stream",
          "name": "stdout",
          "text": [
            "credit Card Payment: 1025.0 PKR\n",
            "PayPal Payment: 1045.0 PKR\n"
          ]
        }
      ]
    },
    {
      "cell_type": "code",
      "source": [
        "# Question 4 (Advance Question)\n",
        "\n",
        "from abc import ABC, abstractmethod\n",
        "\n",
        "class Ride(ABC):\n",
        "\n",
        "  @abstractmethod\n",
        "  def calculate_fare(self,distance_km: float) -> float:\n",
        "    pass\n",
        "\n",
        "class BikeRide(Ride):\n",
        "  def __init__(self):\n",
        "    self.base_fare = 30\n",
        "    self.per_km_rate = 10\n",
        "\n",
        "  def calculate_fare(self, distance_km):\n",
        "    return self.base_fare + self.per_km_rate * distance_km\n",
        "\n",
        "class CarRide(Ride):\n",
        "  def __init__(self):\n",
        "    self.base_fare = 50\n",
        "    self.per_km_rate = 20\n",
        "\n",
        "  def calculate_fare(self, distance_km):\n",
        "    return self.base_fare + self.per_km_rate * distance_km\n",
        "\n",
        "class VanRide(Ride):\n",
        "  def __init__(self):\n",
        "    self.base_fare = 80\n",
        "    self.per_km_rate = 25\n",
        "\n",
        "  def calculate_fare(self,distance_km):\n",
        "    return self.base_fare + self.per_km_rate * distance_km\n"
      ],
      "metadata": {
        "id": "tsBEPOMHWOZ3"
      },
      "execution_count": 2,
      "outputs": []
    },
    {
      "cell_type": "code",
      "source": [
        "bike = BikeRide()\n",
        "car = CarRide()\n",
        "van = VanRide()\n",
        "\n",
        "for ride in (bike, car, van):\n",
        "  print(f\"{ride.__class__.__name__}:{ride.calculate_fare(12)} PKR\")"
      ],
      "metadata": {
        "colab": {
          "base_uri": "https://localhost:8080/"
        },
        "id": "Lagta2GqgJ0S",
        "outputId": "922d936f-3eb5-4483-b573-7dd962238b01"
      },
      "execution_count": 4,
      "outputs": [
        {
          "output_type": "stream",
          "name": "stdout",
          "text": [
            "BikeRide:150 PKR\n",
            "CarRide:290 PKR\n",
            "VanRide:380 PKR\n"
          ]
        }
      ]
    }
  ]
}