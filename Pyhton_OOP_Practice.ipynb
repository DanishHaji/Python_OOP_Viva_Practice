{
  "nbformat": 4,
  "nbformat_minor": 0,
  "metadata": {
    "colab": {
      "provenance": [],
      "authorship_tag": "ABX9TyMhT1HPYL8hGCzonCwkMaTq",
      "include_colab_link": true
    },
    "kernelspec": {
      "name": "python3",
      "display_name": "Python 3"
    },
    "language_info": {
      "name": "python"
    }
  },
  "cells": [
    {
      "cell_type": "markdown",
      "metadata": {
        "id": "view-in-github",
        "colab_type": "text"
      },
      "source": [
        "<a href=\"https://colab.research.google.com/github/DanishHaji/Python_OOP_Viva_Practice/blob/main/Pyhton_OOP_Practice.ipynb\" target=\"_parent\"><img src=\"https://colab.research.google.com/assets/colab-badge.svg\" alt=\"Open In Colab\"/></a>"
      ]
    },
    {
      "cell_type": "markdown",
      "source": [
        "# 1.Encapsulation"
      ],
      "metadata": {
        "id": "gu-bqaelfjpq"
      }
    },
    {
      "cell_type": "code",
      "source": [
        "class Dog:\n",
        "  def __init__(self,name):\n",
        "    self.__name = name\n",
        "\n",
        "  def get_name(self):   # Getter Name\n",
        "    return self.__name\n",
        "\n",
        "  def set_name(self, new_name):   # Setter Name\n",
        "    self.__name = new_name\n",
        "\n",
        "dog = Dog(\"Buddy\")\n",
        "print(\"Dog's name is:\", dog.get_name())\n",
        "\n",
        "dog.set_name = \"Rocky\"\n",
        "print(\"Dog's new name is:\", dog.get_name())"
      ],
      "metadata": {
        "colab": {
          "base_uri": "https://localhost:8080/"
        },
        "id": "Uu99-J8XIu8S",
        "outputId": "4bdb63da-45a1-4516-add5-31397324c8db"
      },
      "execution_count": 4,
      "outputs": [
        {
          "output_type": "stream",
          "name": "stdout",
          "text": [
            "Dog's name is: Buddy\n",
            "Dog's new name is: Buddy\n"
          ]
        }
      ]
    },
    {
      "cell_type": "code",
      "source": [
        "class Person:\n",
        "  def __init__(self,name,age):\n",
        "    self.__name = name\n",
        "    self.__age = age\n",
        "\n",
        "  def get_name(self):\n",
        "    return self.__name\n",
        "\n",
        "  def set_name(self, new_name):\n",
        "    self.__name = new_name\n",
        "\n",
        "  def get_age(self):\n",
        "    return self.__age\n",
        "\n",
        "  def set_age(self,age):\n",
        "    if age > 0:\n",
        "      self.__age = age\n",
        "    else:\n",
        "      print(\"Invalid age\")"
      ],
      "metadata": {
        "id": "9mI-ywF7NYzg"
      },
      "execution_count": 13,
      "outputs": []
    },
    {
      "cell_type": "code",
      "source": [
        "person = Person(\"Danish\", 30)\n",
        "print(\"The Person name is:\", person.get_name())\n",
        "print(\"The age is:\", person.get_age())\n",
        "\n",
        "person.set_name(\"Danish Haji\")\n",
        "print(\"The Person new name is:\", person.get_name())\n",
        "\n",
        "person.set_age(32)\n",
        "print(\"The new age is:\", person.get_age())\n",
        "\n",
        "person.set_age(-5)"
      ],
      "metadata": {
        "colab": {
          "base_uri": "https://localhost:8080/"
        },
        "id": "s32O4bdIPRLR",
        "outputId": "31579527-fabf-4aa8-aa14-ecb74025800f"
      },
      "execution_count": 16,
      "outputs": [
        {
          "output_type": "stream",
          "name": "stdout",
          "text": [
            "The Person name is: Danish\n",
            "The age is: 30\n",
            "The Person new name is: Danish Haji\n",
            "The new age is: 32\n",
            "Invalid age\n"
          ]
        }
      ]
    },
    {
      "cell_type": "code",
      "source": [
        "class BankAccount:\n",
        "  def __init__(self,account_number,balance=0):\n",
        "    self.__account_number = account_number\n",
        "    self.__balance = balance\n",
        "\n",
        "  def get_account_number(self):\n",
        "    return self.__account_number\n",
        "\n",
        "  def get_balance(self):\n",
        "    return self.__balance\n",
        "\n",
        "  def deposit(self,amount):\n",
        "    if amount > 0:\n",
        "      self.__balance += amount\n",
        "    else:\n",
        "      print(\"Invalid Deposite amount\")\n",
        "\n",
        "  def withdraw(self,amount):\n",
        "    if amount > 0 and amount <= self.__balance:\n",
        "      self.__balance -= amount\n",
        "    else:\n",
        "      print(\"Invalid Withdraw amount or insufficient balance\")\n",
        "\n"
      ],
      "metadata": {
        "id": "RqFIgAZHPqgX"
      },
      "execution_count": 17,
      "outputs": []
    },
    {
      "cell_type": "code",
      "source": [
        "account_holder = BankAccount(\"12345454\", 50000)\n",
        "print(\"The account number is:\", account_holder.get_account_number())\n",
        "print(\"The account balance is:\", account_holder.get_balance())\n",
        "\n",
        "\n",
        "account_holder.deposit(5000)\n",
        "print(\"The new account balance is:\", account_holder.get_balance())\n",
        "\n",
        "account_holder.withdraw(5000)\n",
        "print(\"The new account balance is:\", account_holder.get_balance())\n"
      ],
      "metadata": {
        "colab": {
          "base_uri": "https://localhost:8080/"
        },
        "id": "p6kS4SJ6bB9e",
        "outputId": "a5b51c50-ea4c-4e2f-b7b7-79f4d785231b"
      },
      "execution_count": 24,
      "outputs": [
        {
          "output_type": "stream",
          "name": "stdout",
          "text": [
            "The account number is: 12345454\n",
            "The account balance is: 50000\n",
            "The new account balance is: 55000\n",
            "The new account balance is: 50000\n"
          ]
        }
      ]
    },
    {
      "cell_type": "code",
      "source": [
        "# Question 1\n",
        "\n",
        "class Student:\n",
        "  #Constructor\n",
        "  def __init__(self,name,marks): # Attributes\n",
        "    self.__name = name\n",
        "    self.__marks = marks\n",
        "\n",
        "  # Methods\n",
        "  def get_name(self):\n",
        "    return self.__name\n",
        "\n",
        "  def set_name(self,new_name):\n",
        "    self.__name = new_name\n",
        "\n",
        "  def get_marks(self):\n",
        "    return self.__marks\n",
        "\n",
        "  def set_marks(self,marks):\n",
        "    if 0 <= marks <= 100:\n",
        "      self.__marks = marks\n",
        "    else:\n",
        "      print(\"Invalid marks\")\n"
      ],
      "metadata": {
        "id": "2eFBkEs5daWe"
      },
      "execution_count": 25,
      "outputs": []
    },
    {
      "cell_type": "code",
      "source": [
        "student1 = Student(\"Ali\", 85)\n",
        "student2 = Student(\"Danish\",90)\n",
        "\n",
        "print(student1.get_name())\n",
        "print(student1.get_marks())\n",
        "student1.set_marks(50)\n",
        "print(student1.get_marks())\n",
        "\n",
        "\n",
        "print(student2.get_name())\n",
        "print(student2.get_marks())\n",
        "student2.set_marks(60)\n",
        "print(student2.get_marks())"
      ],
      "metadata": {
        "colab": {
          "base_uri": "https://localhost:8080/"
        },
        "id": "dfLNqHD3fxTN",
        "outputId": "ed4a1298-cbf8-4883-9603-bf335099e7a0"
      },
      "execution_count": 36,
      "outputs": [
        {
          "output_type": "stream",
          "name": "stdout",
          "text": [
            "Ali\n",
            "85\n",
            "50\n",
            "Danish\n",
            "90\n",
            "60\n"
          ]
        }
      ]
    },
    {
      "cell_type": "code",
      "source": [
        "# Question 2\n",
        "\n",
        "class Book:\n",
        "\n",
        "  # Constructor\n",
        "  def __init__(self,title,author,price):\n",
        "    self.__title = title\n",
        "    self.__author = author\n",
        "    self.__price = price\n",
        "\n",
        "  # Methods\n",
        "  def get_title(self): # Getter\n",
        "    return self.__title\n",
        "\n",
        "  def set_title(self, new_title):  # Setter\n",
        "    self.__title = new_title\n",
        "\n",
        "  def get_author(self):  # Getter\n",
        "    return self.__author\n",
        "\n",
        "  def set_author(self,new_author):   # Setter\n",
        "    self.__author = new_author\n",
        "\n",
        "  def get_price(self):  # Getter\n",
        "    return self.__price\n",
        "\n",
        "  def set_price(self, price):   # Setter\n",
        "    if price > 0:\n",
        "      self.__price = price\n",
        "    else:\n",
        "      print(\"Invalid Price\")\n"
      ],
      "metadata": {
        "id": "9yRKzijLqBY2"
      },
      "execution_count": 37,
      "outputs": []
    },
    {
      "cell_type": "code",
      "source": [
        "book1 = Book(\"Harry Potter\", \"JK Rowlling\", 150)\n",
        "print(\"Book Title:\", book1.get_title())\n",
        "print(\"Book Author:\", book1.get_author())\n",
        "print(\"Book Price:\", book1.get_price())\n",
        "\n",
        "book1.set_title(\"The Vell\")\n",
        "print(\"New Book Title:\", book1.get_title())\n",
        "\n",
        "book1.set_author(\"Danish Haji\")\n",
        "print(\"New Book Author:\", book1.get_author())\n",
        "\n",
        "book1.set_price(200)\n",
        "print(\"New Book Price:\", book1.get_price())\n"
      ],
      "metadata": {
        "colab": {
          "base_uri": "https://localhost:8080/"
        },
        "id": "pwRufeMYtfWt",
        "outputId": "d248a472-4da1-4fdb-f823-26a910b2df3b"
      },
      "execution_count": 48,
      "outputs": [
        {
          "output_type": "stream",
          "name": "stdout",
          "text": [
            "Book Title: Harry Potter\n",
            "Book Author: JK Rowlling\n",
            "Book Price: 150\n",
            "New Book Title: The Vell\n",
            "New Book Author: Danish Haji\n",
            "New Book Price: 200\n"
          ]
        }
      ]
    },
    {
      "cell_type": "code",
      "source": [
        "# Advance question 3\n",
        "\n",
        "class Employee:\n",
        "  # Constructor\n",
        "  def __init__(self,name,position,salary): # Propertis\n",
        "    self.__name = name                     # Private Attributes\n",
        "    self.__position = position             # Private Attributes\n",
        "    self.__salary = salary                 # Private Attributes\n",
        "\n",
        "  # Methods\n",
        "  def get_name(self):\n",
        "    return self.__name\n",
        "\n",
        "  def get_position(self):\n",
        "    return self.__position\n",
        "\n",
        "  def get_salary(self):\n",
        "    return self.__salary\n",
        "\n",
        "  def set_name(self,new_name):\n",
        "    self.__name = new_name\n",
        "\n",
        "  def set_position(self,new_position):\n",
        "    self.__position = new_position\n",
        "\n",
        "  def set_salary(self,new_salary):\n",
        "    if new_salary >= 15000:\n",
        "      self.__salary = new_salary\n",
        "    else:\n",
        "      print(\"Salary too low\")\n",
        "\n",
        "  def apply_bonus(self,percentage):\n",
        "    if percentage > 0:\n",
        "      bonus_amount = self.__salary * (percentage/100)\n",
        "      self.__salary += bonus_amount\n",
        "    else:\n",
        "      print(\"Invalid Bonus Percentage\")\n",
        ""
      ],
      "metadata": {
        "id": "Q0L-G8kd1Ei-"
      },
      "execution_count": 3,
      "outputs": []
    },
    {
      "cell_type": "code",
      "source": [
        "employee = Employee(\"Danish\",\"GM\", 150000)\n",
        "print(employee.get_name())\n",
        "print(employee.get_position())\n",
        "print(employee.get_salary())\n",
        "\n",
        "employee.set_name(\"Danish Haji\")\n",
        "print(employee.get_name())\n",
        "\n",
        "employee.set_position(\"CEO\")\n",
        "print(employee.get_position())\n",
        "\n",
        "employee.set_salary(250000)\n",
        "print(employee.get_salary())\n",
        "\n",
        "employee.apply_bonus(20)\n",
        "print(employee.get_salary())"
      ],
      "metadata": {
        "colab": {
          "base_uri": "https://localhost:8080/"
        },
        "id": "eH03d71w45qI",
        "outputId": "02a7325c-c254-43bf-dfc7-b448e26b6ac1"
      },
      "execution_count": 9,
      "outputs": [
        {
          "output_type": "stream",
          "name": "stdout",
          "text": [
            "Danish\n",
            "GM\n",
            "150000\n",
            "Danish Haji\n",
            "CEO\n",
            "250000\n",
            "300000.0\n"
          ]
        }
      ]
    },
    {
      "cell_type": "code",
      "source": [
        "class BankAccount1:\n",
        "  def __init__(self,account_number,account_holder,balance=0):\n",
        "    self.__account_number = account_number\n",
        "    self.__account_holder = account_holder\n",
        "    self.__transaction = []\n",
        "    self.__balance = balance\n",
        "\n",
        "  # Methods\n",
        "\n",
        "  def get_account_number(self):\n",
        "    return self.__account_number\n",
        "\n",
        "  def get_account_holder(self):\n",
        "    return self.__account_holder\n",
        "\n",
        "  def get_transaction_history(self):\n",
        "    return self.__transaction\n",
        "\n",
        "  def get_balance(self):\n",
        "    return self.__balance\n",
        "\n",
        "  def deposit(self,amount):\n",
        "    if amount > 0:\n",
        "      self.__balance += amount\n",
        "      self.__transaction.append(f\"Deposited: {amount}\")\n",
        "    else:\n",
        "      print(\"Invalid deposit amount\")\n",
        "\n",
        "  def withdraw(self,amount):\n",
        "    if amount > 0 and amount <= self.__balance:\n",
        "      self.__balance -= amount\n",
        "      self.__transaction.append(f\"Widthdraw: {amount}\")\n",
        "    else:\n",
        "      print(\"Insufficient funds\")\n"
      ],
      "metadata": {
        "id": "fjxKGHXfGKD3"
      },
      "execution_count": 12,
      "outputs": []
    },
    {
      "cell_type": "code",
      "source": [
        "acc = BankAccount1(\"123\", \"Danish\")\n",
        "\n",
        "acc.deposit(500)\n",
        "acc.withdraw(200)\n",
        "acc.withdraw(1000)\n",
        "\n",
        "print(acc.get_balance())\n",
        "print(acc.get_transaction_history())"
      ],
      "metadata": {
        "colab": {
          "base_uri": "https://localhost:8080/"
        },
        "id": "IEPhUEhuvo6v",
        "outputId": "5933ec2c-d36d-4452-8210-40b96090e795"
      },
      "execution_count": 14,
      "outputs": [
        {
          "output_type": "stream",
          "name": "stdout",
          "text": [
            "Insufficient funds\n",
            "300\n",
            "['Deposited: 500', 'Widthdraw: 200']\n"
          ]
        }
      ]
    },
    {
      "cell_type": "markdown",
      "source": [
        "# 2.Abstraction"
      ],
      "metadata": {
        "id": "VE4EcPyWxMwm"
      }
    },
    {
      "cell_type": "code",
      "source": [
        "# General Question\n",
        "\n",
        "from abc import ABC, abstractmethod\n",
        "\n",
        "# Abstract base class\n",
        "class Shape(ABC):\n",
        "\n",
        "  @abstractmethod\n",
        "  def area(self):\n",
        "    pass\n",
        "\n",
        "  @abstractmethod\n",
        "  def perimeter(self):\n",
        "    pass\n",
        "\n",
        "# Concrete class\n",
        "class Rectangle(Shape):\n",
        "  def __init__(self,length,width):\n",
        "    self.length = length\n",
        "    self.width = width\n",
        "\n",
        "  def area(self):\n",
        "    return self.width * self.length\n",
        "\n",
        "  def perimeter(self):\n",
        "    return 2 * (self.length + self.width)\n"
      ],
      "metadata": {
        "id": "MF1fIMmoxTQx"
      },
      "execution_count": 19,
      "outputs": []
    },
    {
      "cell_type": "code",
      "source": [
        "rect = Rectangle(10,5)\n",
        "print(\"Area\", rect.area())\n",
        "print(\"Perimeter\", rect.perimeter())"
      ],
      "metadata": {
        "colab": {
          "base_uri": "https://localhost:8080/"
        },
        "id": "256UTJuazYeo",
        "outputId": "fe39dff8-a381-42e4-83fb-630a30d624f6"
      },
      "execution_count": 18,
      "outputs": [
        {
          "output_type": "stream",
          "name": "stdout",
          "text": [
            "Area 50\n",
            "Perimeter 30\n"
          ]
        }
      ]
    },
    {
      "cell_type": "code",
      "source": [
        "# Advanve Question\n",
        "\n",
        "from abc import ABC, abstractmethod\n",
        "\n",
        "class Vehicle(ABC):\n",
        "  def __init__(self,brand):\n",
        "    self.brand = brand\n",
        "\n",
        "  @abstractmethod\n",
        "  def start_engine(self):\n",
        "    pass\n",
        "\n",
        "  @abstractmethod\n",
        "  def stop_engine(self):\n",
        "    pass\n",
        "\n",
        "  def get_brand(self):\n",
        "    return self.brand\n",
        "\n",
        "# Concrete class\n",
        "class Car(Vehicle):\n",
        "  def start_engine(self):\n",
        "    return f\"{self.brand} car engine started\"\n",
        "\n",
        "  def stop_engine(self):\n",
        "    return f\"{self.brand} car engine stopped\""
      ],
      "metadata": {
        "id": "JvvQ2L9UzytJ"
      },
      "execution_count": 20,
      "outputs": []
    },
    {
      "cell_type": "code",
      "source": [
        "car = Car(\"Honda\")\n",
        "print(car.start_engine())\n",
        "print(car.stop_engine())"
      ],
      "metadata": {
        "colab": {
          "base_uri": "https://localhost:8080/"
        },
        "id": "h1iv6W4W1VTz",
        "outputId": "34aa32c5-6daa-4eb5-ddec-2f0c361a412f"
      },
      "execution_count": 21,
      "outputs": [
        {
          "output_type": "stream",
          "name": "stdout",
          "text": [
            "Honda car engine started\n",
            "Honda car engine stopped\n"
          ]
        }
      ]
    },
    {
      "cell_type": "code",
      "source": [
        "# Queston 1\n",
        "\n",
        "from abc import ABC, abstractmethod\n",
        "import math\n",
        "\n",
        "class Shape(ABC):\n",
        "\n",
        "  @abstractmethod\n",
        "  def area(self):\n",
        "    pass\n",
        "\n",
        "  @abstractmethod\n",
        "  def perimeter(self):\n",
        "    pass\n",
        "\n",
        "# Concrete class\n",
        "\n",
        "class Circle(Shape):\n",
        "  def __init__(self,radius):\n",
        "    self.radius = radius\n",
        "\n",
        "  def area(self):\n",
        "    return math.pi * (self.radius ** 2)\n",
        "\n",
        "  def perimeter(self):\n",
        "    return math.pi * 2 * self.radius\n",
        "\n",
        "class Rectangle(Shape):\n",
        "  def __init__(self,length, width):\n",
        "    self.length = length\n",
        "    self.width = width\n",
        "\n",
        "  def area(self):\n",
        "    return self.length * self.width\n",
        "\n",
        "  def perimeter(self):\n",
        "    return 2 * (self.length + self.width)\n"
      ],
      "metadata": {
        "id": "2ZorbHWK4eIv"
      },
      "execution_count": 23,
      "outputs": []
    },
    {
      "cell_type": "code",
      "source": [
        "circle = Circle(5)\n",
        "print(\"Circle area:\", circle.area())\n",
        "print(\"Circle perimeter:\", circle.perimeter())\n",
        "\n",
        "rect = Rectangle(10, 4)\n",
        "print(\"Rectangle area:\", rect.area())\n",
        "print(\"Rectangle perimeter:\", rect.perimeter())\n"
      ],
      "metadata": {
        "colab": {
          "base_uri": "https://localhost:8080/"
        },
        "id": "qXIDZrWr9gdE",
        "outputId": "2a4ad9b6-a2cd-4922-d8fd-aabad2150600"
      },
      "execution_count": 24,
      "outputs": [
        {
          "output_type": "stream",
          "name": "stdout",
          "text": [
            "Circle area: 78.53981633974483\n",
            "Circle perimeter: 31.41592653589793\n",
            "Rectangle area: 40\n",
            "Rectangle perimeter: 28\n"
          ]
        }
      ]
    },
    {
      "cell_type": "code",
      "source": [
        "# Question 2 (Advance Question)\n",
        "\n",
        "from abc import ABC, abstractmethod\n",
        "\n",
        "class Employee(ABC):\n",
        "  def __init__(self, name):\n",
        "    self.name = name\n",
        "\n",
        "  @abstractmethod\n",
        "  def calculate_salary(self):\n",
        "    pass\n",
        "\n",
        "  @abstractmethod\n",
        "  def get_role(self):\n",
        "    pass\n",
        "\n",
        "class Manager(Employee):\n",
        "  def __init__(self,name,monthly_salary):\n",
        "    super().__init__(name)\n",
        "    self.monthly_salary = monthly_salary\n",
        "\n",
        "  def calculate_salary(self):\n",
        "    return self.monthly_salary\n",
        "\n",
        "  def get_role(self):\n",
        "    return \"Manager\"\n",
        "\n",
        "class Developer(Employee):\n",
        "  def __init__(self,name,hourly_rate,hours_worked):\n",
        "    super().__init__(name)\n",
        "    self.hourly_rate = hourly_rate\n",
        "    self.hours_worked = hours_worked\n",
        "\n",
        "  def calculate_salary(self):\n",
        "    return self.hourly_rate * self.hours_worked\n",
        "\n",
        "  def get_role(self):\n",
        "    return \"Developer\""
      ],
      "metadata": {
        "id": "fwedfw-c9pwi"
      },
      "execution_count": 28,
      "outputs": []
    },
    {
      "cell_type": "code",
      "source": [
        "d = Developer(\"Danish\", 2000, 180)\n",
        "m = Manager(\"Huzaifa\", 150000)\n",
        "\n",
        "for emp in (d, m):\n",
        "  print(f\"{emp.name} ({emp.get_role()}): {emp.calculate_salary()} PKR\")"
      ],
      "metadata": {
        "colab": {
          "base_uri": "https://localhost:8080/"
        },
        "id": "1zTMKl70HHtL",
        "outputId": "d72c099f-3966-4798-f385-22c4824295c2"
      },
      "execution_count": 29,
      "outputs": [
        {
          "output_type": "stream",
          "name": "stdout",
          "text": [
            "Danish (Developer): 360000 PKR\n",
            "Huzaifa (Manager): 150000 PKR\n"
          ]
        }
      ]
    },
    {
      "cell_type": "code",
      "source": [
        "# Question 3 (Advance Question)\n",
        "\n",
        "from abc import ABC, abstractmethod\n",
        "\n",
        "class PaymentMethod(ABC):\n",
        "\n",
        "  @abstractmethod\n",
        "  def pay(amount: float) -> float:\n",
        "    pass\n",
        "\n",
        "class CreditCarPayment(PaymentMethod):\n",
        "  def pay(self,amount:float) -> float:\n",
        "    fee_percent = 0.025\n",
        "    fee = amount * fee_percent\n",
        "    total = amount + fee\n",
        "    return total\n",
        "\n",
        "class PayPalPayment(PaymentMethod):\n",
        "  def pay(self,amount:float) -> float:\n",
        "    flat_fee = 15\n",
        "    percent_fee = 0.03\n",
        "    fee = flat_fee + (amount * percent_fee)\n",
        "    total = amount + fee\n",
        "    return total\n",
        "\n",
        "if __name__ == \"__main__\":\n",
        "  cc = CreditCarPayment()\n",
        "  pp = PayPalPayment()\n",
        "\n",
        "  amt = 1000\n",
        "  print(f\"credit Card Payment: {cc.pay(amt)} PKR\")\n",
        "  print(f\"PayPal Payment: {pp.pay(amt)} PKR\")\n"
      ],
      "metadata": {
        "colab": {
          "base_uri": "https://localhost:8080/"
        },
        "id": "np9No-K0JSOQ",
        "outputId": "f95a213f-3175-4db9-b28f-e5b8912ec114"
      },
      "execution_count": 30,
      "outputs": [
        {
          "output_type": "stream",
          "name": "stdout",
          "text": [
            "credit Card Payment: 1025.0 PKR\n",
            "PayPal Payment: 1045.0 PKR\n"
          ]
        }
      ]
    },
    {
      "cell_type": "code",
      "source": [
        "# Question 4 (Advance Question)\n",
        "\n",
        "from abc import ABC, abstractmethod\n",
        "\n",
        "class Ride(ABC):\n",
        "\n",
        "  @abstractmethod\n",
        "  def calculate_fare(self,distance_km: float) -> float:\n",
        "    pass\n",
        "\n",
        "class BikeRide(Ride):\n",
        "  def __init__(self):\n",
        "    self.base_fare = 30\n",
        "    self.per_km_rate = 10\n",
        "\n",
        "  def calculate_fare(self, distance_km):\n",
        "    return self.base_fare + self.per_km_rate * distance_km\n",
        "\n",
        "class CarRide(Ride):\n",
        "  def __init__(self):\n",
        "    self.base_fare = 50\n",
        "    self.per_km_rate = 20\n",
        "\n",
        "  def calculate_fare(self, distance_km):\n",
        "    return self.base_fare + self.per_km_rate * distance_km\n",
        "\n",
        "class VanRide(Ride):\n",
        "  def __init__(self):\n",
        "    self.base_fare = 80\n",
        "    self.per_km_rate = 25\n",
        "\n",
        "  def calculate_fare(self,distance_km):\n",
        "    return self.base_fare + self.per_km_rate * distance_km\n"
      ],
      "metadata": {
        "id": "tsBEPOMHWOZ3"
      },
      "execution_count": 2,
      "outputs": []
    },
    {
      "cell_type": "code",
      "source": [
        "bike = BikeRide()\n",
        "car = CarRide()\n",
        "van = VanRide()\n",
        "\n",
        "for ride in (bike, car, van):\n",
        "  print(f\"{ride.__class__.__name__}:{ride.calculate_fare(12)} PKR\")"
      ],
      "metadata": {
        "colab": {
          "base_uri": "https://localhost:8080/"
        },
        "id": "Lagta2GqgJ0S",
        "outputId": "922d936f-3eb5-4483-b573-7dd962238b01"
      },
      "execution_count": 4,
      "outputs": [
        {
          "output_type": "stream",
          "name": "stdout",
          "text": [
            "BikeRide:150 PKR\n",
            "CarRide:290 PKR\n",
            "VanRide:380 PKR\n"
          ]
        }
      ]
    },
    {
      "cell_type": "code",
      "source": [
        "# Question 5 (Advance Question, Includes Encapsulation and Abstraction)\n",
        "\n",
        "from abc import ABC, abstractmethod\n",
        "\n",
        "# Step 1: Abstract Base Class\n",
        "class User(ABC):\n",
        "\n",
        "  def __init__(self,name,user_id):\n",
        "    self.__name = name # Private Attribute\n",
        "    self.__user_id = user_id  # Private Attribute\n",
        "\n",
        "  def get_name(self):\n",
        "    return self.__name\n",
        "\n",
        "  def set_name(self, new_name):\n",
        "    self.__name = new_name\n",
        "\n",
        "  def get_id(self):\n",
        "    return self.__user_id\n",
        "\n",
        "  def set_id(self, new_id):\n",
        "    self.__user_id = new_id\n",
        "\n",
        "  @abstractmethod\n",
        "\n",
        "  def get_role(self):\n",
        "    pass\n",
        "\n",
        "# Step 2: Student Class\n",
        "\n",
        "class Student(User):\n",
        "  def __init__(self, name, user_id):\n",
        "    super().__init__(name, user_id)\n",
        "    self.__courses = []\n",
        "\n",
        "  def enroll_courses(self,course_name):\n",
        "    self.__courses.append(course_name)\n",
        "\n",
        "  def get_courses(self):\n",
        "    return self.__courses\n",
        "\n",
        "  def get_role(self):\n",
        "    return \"Student\"\n",
        "\n",
        "# Step 3: Instructor Class\n",
        "\n",
        "class Instructor(User):\n",
        "  def __init__(self,name,user_id):\n",
        "    super().__init__(name,user_id)\n",
        "    self.__teaching_courses = []\n",
        "\n",
        "  def add_courses(self,course_name):\n",
        "    self.__teaching_courses.append(course_name)\n",
        "\n",
        "  def get_courses(self):\n",
        "    return self.__teaching_courses\n",
        "\n",
        "  def get_role(self):\n",
        "    return \"Instructor\""
      ],
      "metadata": {
        "id": "s5jf6vAhuOLJ"
      },
      "execution_count": 1,
      "outputs": []
    },
    {
      "cell_type": "code",
      "source": [
        "student = Student(\"Danish\", 101)\n",
        "instructor = Instructor(\"Ali\", 220)\n",
        "\n",
        "student.enroll_courses(\"Python\")\n",
        "student.enroll_courses(\"Math\")\n",
        "\n",
        "instructor.add_courses(\"Python\")\n",
        "instructor.add_courses(\"AI\")\n",
        "\n",
        "print(f\"{student.get_name()} ({student.get_role()}): {student.get_courses()}\")\n",
        "print(f\"{instructor.get_name()} ({instructor.get_role()}): {instructor.get_courses()}\")"
      ],
      "metadata": {
        "colab": {
          "base_uri": "https://localhost:8080/"
        },
        "id": "bnCk1FjdzqR8",
        "outputId": "4498b1db-991d-4dfe-a451-1c95a823993e"
      },
      "execution_count": 5,
      "outputs": [
        {
          "output_type": "stream",
          "name": "stdout",
          "text": [
            "Danish (Student): ['Python', 'Math']\n",
            "Ali (Instructor): ['Python', 'AI']\n"
          ]
        }
      ]
    },
    {
      "cell_type": "markdown",
      "source": [
        "# 3.Inheritance"
      ],
      "metadata": {
        "id": "vP25iEnr1Uqb"
      }
    },
    {
      "cell_type": "code",
      "source": [
        "# Question 1 (General Question)\n",
        "\n",
        "# Parent Class (Base Class)\n",
        "class Vehicle:\n",
        "  def __init__(self,brand,model):\n",
        "    self.brand = brand\n",
        "    self.model = model\n",
        "\n",
        "  def display_info(self):\n",
        "    return self.brand, self.model\n",
        "\n",
        "# Child Class 1 (Sub Class)\n",
        "class Car(Vehicle):\n",
        "  def __init__(self,brand,model,seats):\n",
        "    super().__init__(brand,model)\n",
        "    self.seats = seats\n",
        "\n",
        "  def display_info(self):\n",
        "    return f\"{self.brand} {self.model} with {self.seats} seats\"\n",
        "\n",
        "# Child Class 2 (Sub Class)\n",
        "class MotorCycle(Vehicle):\n",
        "  def __init__(self, brand, model, has_sidecar:bool):\n",
        "    super().__init__(brand,model)\n",
        "    self.has_sidecar = has_sidecar\n",
        "\n",
        "  def display_info(self):\n",
        "    return self.brand, self.model, self.has_sidecar"
      ],
      "metadata": {
        "id": "3tywv8k01ZKh"
      },
      "execution_count": 10,
      "outputs": []
    },
    {
      "cell_type": "code",
      "source": [
        "v = Vehicle(\"Toyota\", \"Corolla\")\n",
        "print(v.display_info())\n",
        "\n",
        "c = Car(\"Honda\", \"Civic\", 5)\n",
        "print(c.display_info())\n",
        "\n",
        "m = MotorCycle(\"Yamaha\", \"R1\", False)\n",
        "print(m.display_info())"
      ],
      "metadata": {
        "colab": {
          "base_uri": "https://localhost:8080/"
        },
        "id": "AmeTg8wS-AXU",
        "outputId": "79f1cff0-7f51-4851-dbc7-2b82f3883ba2"
      },
      "execution_count": 11,
      "outputs": [
        {
          "output_type": "stream",
          "name": "stdout",
          "text": [
            "('Toyota', 'Corolla')\n",
            "Honda Civic with 5 seats\n",
            "('Yamaha', 'R1', False)\n"
          ]
        }
      ]
    },
    {
      "cell_type": "code",
      "source": [
        "# Question 2 (Advance Question)\n",
        "\n",
        "# Base Class\n",
        "class SmartDevice:\n",
        "  def __init__(self,device_name,status=False):\n",
        "    self.device_name = device_name\n",
        "    self.status = status\n",
        "\n",
        "  def turn_on(self):\n",
        "    self.status = True\n",
        "\n",
        "  def turn_off(self):\n",
        "    self.status = False\n",
        "\n",
        "  def get_status(self):\n",
        "    return f\"Status: {self.device_name} is currently {self.status}\"\n",
        "\n",
        "# SubClass 1\n",
        "class SmartLight(SmartDevice):\n",
        "  def __init__(self,device_name,brightness=50,status=False):\n",
        "    super().__init__(device_name,status)\n",
        "    self.brightness = brightness\n",
        "\n",
        "  def set_brightness(self,level):\n",
        "    if 0 <= level <= 100:\n",
        "      self.brightness = level\n",
        "    else:\n",
        "      print(\"Error: Brightness level must be between 0 and 100.\")\n",
        "\n",
        "  def get_status(self):\n",
        "    power_state = \"on\" if self.status else \"off\"\n",
        "    return f\"SmartLight: {self.device_name} is {power_state} at {self.brightness} % brightness\"\n",
        "\n",
        "# SubClass 2\n",
        "class SmartThermostate(SmartDevice):\n",
        "  def __init__(self, device_name,temperature= 24, status=False):\n",
        "    super().__init__(device_name, status)\n",
        "    self.temperature = temperature\n",
        "\n",
        "  def set_temperature(self,temp):\n",
        "    if 16 <= temp <= 30:\n",
        "      self.temperature = temp\n",
        "    else:\n",
        "      print(\"Error: Temperature must be between 16 and 30.\")\n",
        "\n",
        "  def get_status(self):\n",
        "    power_state = \"on\" if self.status else \"off\"\n",
        "    return f\"SmartThermostate: {self.device_name} is {power_state}, set to {self.temperature}°C\"\n",
        "\n",
        "# SubClass 3\n",
        "class SmartLock(SmartDevice):\n",
        "  def __init__(self, device_name, is_locked=True, status=False):\n",
        "    super().__init__(device_name, status)\n",
        "    self.is_locked = is_locked\n",
        "\n",
        "  def lock(self):\n",
        "    self.is_locked = True\n",
        "    print(f\"{self.device_name} is now locked\")\n",
        "\n",
        "  def unlock(self):\n",
        "    self.is_locked = False\n",
        "    print(f\"{self.device_name} is now Unlocked\")\n",
        "\n",
        "  def get_status(self):\n",
        "    power_state = \"on\" if self.status else \"off\"\n",
        "    lock_state = \"Locked\" if self.is_locked else \"unlocked\"\n",
        "    return f\"{self.device_name} is {power_state} and {lock_state}\"\n",
        "\n"
      ],
      "metadata": {
        "id": "6In1TsmY_hzJ"
      },
      "execution_count": 15,
      "outputs": []
    },
    {
      "cell_type": "code",
      "source": [
        "\n",
        "light = SmartLight(\"Living Room Light\")\n",
        "light.turn_on()\n",
        "light.set_brightness(75)\n",
        "print(light.get_status())\n",
        "\n",
        "thermo = SmartThermostate(\"Bedroom AC\")\n",
        "thermo.turn_on()\n",
        "thermo.set_temperature(28)\n",
        "print(thermo.get_status())\n",
        "\n",
        "lock = SmartLock(\"Main Door\")\n",
        "lock.unlock()\n",
        "lock.turn_on()\n",
        "print(lock.get_status())"
      ],
      "metadata": {
        "colab": {
          "base_uri": "https://localhost:8080/"
        },
        "id": "b2y1y45CYO9w",
        "outputId": "6d7674be-aca5-479e-c36f-1fd6382c900f"
      },
      "execution_count": 16,
      "outputs": [
        {
          "output_type": "stream",
          "name": "stdout",
          "text": [
            "SmartLight: Living Room Light is on at 75 % brightness\n",
            "SmartThermostate: Bedroom AC is on, set to 28°C\n",
            "Main Door is now Unlocked\n",
            "Main Door is on and unlocked\n"
          ]
        }
      ]
    },
    {
      "cell_type": "markdown",
      "source": [
        "# 4. Polymorphism"
      ],
      "metadata": {
        "id": "qUxAEIWEZWtO"
      }
    },
    {
      "cell_type": "code",
      "source": [
        "# Question 1 (General Question)\n",
        "import math\n",
        "\n",
        "# Base Class\n",
        "class Shape:\n",
        "  def area(self):\n",
        "    pass\n",
        "\n",
        "# Subclass 1\n",
        "class Rectangle(Shape):\n",
        "  def __init__(self,length,width):\n",
        "    self.length = length\n",
        "    self.width = width\n",
        "\n",
        "  def area(self):\n",
        "    return self.length * self.width\n",
        "\n",
        "# Subclass 2\n",
        "class Circle(Shape):\n",
        "  def __init__(self,radius):\n",
        "    self.radius = radius\n",
        "\n",
        "  def circle_radius(self):\n",
        "    return self.radius\n",
        "\n",
        "  def area(self):\n",
        "    return math.pi * (self.radius ** 2)\n",
        ""
      ],
      "metadata": {
        "id": "8KZDDH6oZca9"
      },
      "execution_count": 2,
      "outputs": []
    },
    {
      "cell_type": "code",
      "source": [
        "shapes = [Rectangle(5, 3), Circle(4)]\n",
        "for shape in shapes:\n",
        "  print(shape.area())"
      ],
      "metadata": {
        "colab": {
          "base_uri": "https://localhost:8080/"
        },
        "id": "hraRAL0U3zJf",
        "outputId": "6ad2e6a8-7442-4010-a8b0-557de77199ee"
      },
      "execution_count": 3,
      "outputs": [
        {
          "output_type": "stream",
          "name": "stdout",
          "text": [
            "15\n",
            "50.26548245743669\n"
          ]
        }
      ]
    },
    {
      "cell_type": "code",
      "source": [
        "# Question 2 (General Question)\n",
        "\n",
        "class Animal:\n",
        "  def make_sound(self):\n",
        "    pass\n",
        "\n",
        "class Dog(Animal):\n",
        "  def make_sound(self):\n",
        "    return \"Woof!\"\n",
        "\n",
        "class Cat(Animal):\n",
        "  def make_sound(self):\n",
        "    return \"Meow!\"\n",
        "\n",
        "class Cow(Animal):\n",
        "  def make_sound(self):\n",
        "    return \"Moo!\"\n",
        "\n",
        "animals = [Dog(), Cat(), Cow()]\n",
        "for animal in animals:\n",
        "  print(animal.make_sound())\n"
      ],
      "metadata": {
        "colab": {
          "base_uri": "https://localhost:8080/"
        },
        "id": "-x4SSfVo6WT7",
        "outputId": "9c841d30-94c7-453a-f46f-2edbe8495923"
      },
      "execution_count": 6,
      "outputs": [
        {
          "output_type": "stream",
          "name": "stdout",
          "text": [
            "Woof!\n",
            "Meow!\n",
            "Moo!\n"
          ]
        }
      ]
    },
    {
      "cell_type": "code",
      "source": [
        "# Question 3 (Advance Question)\n",
        "\n",
        "class Animal:\n",
        "  def daily_activity(self):\n",
        "    pass\n",
        "\n",
        "class Lion(Animal):\n",
        "  def daily_activity(self):\n",
        "    return \"The lion hunts and rests under a tree.\"\n",
        "\n",
        "class Monkey(Animal):\n",
        "  def daily_activity(self):\n",
        "    return \"The monkey swings from trees and eats bananas.\"\n",
        "\n",
        "class Elephant(Animal):\n",
        "  def daily_activity(self):\n",
        "    return \"The elephant splashes water and eats grass.\"\n",
        "\n",
        "animals = [Lion(), Monkey(), Elephant()]\n",
        "for animal in animals:\n",
        "  print(animal.daily_activity())"
      ],
      "metadata": {
        "colab": {
          "base_uri": "https://localhost:8080/"
        },
        "id": "3oOPWTD6B_e-",
        "outputId": "5914ab5c-a65e-4aae-eea4-56bc65da6975"
      },
      "execution_count": 7,
      "outputs": [
        {
          "output_type": "stream",
          "name": "stdout",
          "text": [
            "The lion hunts and rests under a tree.\n",
            "The monkey swings from trees and eats bananas.\n",
            "The elephant splashes water and eats grass.\n"
          ]
        }
      ]
    },
    {
      "cell_type": "code",
      "source": [
        "# Question 4 (Advance Question)\n",
        "\n",
        "class Animal:\n",
        "  def day_behavior(self):\n",
        "    pass\n",
        "\n",
        "  def night_behavior(self):\n",
        "    pass\n",
        "\n",
        "class Lion(Animal):\n",
        "  def day_behavior(self):\n",
        "    return \"The lion hunts in the savannah.\"\n",
        "\n",
        "  def night_behavior(self):\n",
        "    return \"The lion rests under the tree at night\"\n",
        "\n",
        "class Bat(Animal):\n",
        "  def day_behavior(self):\n",
        "    return \"Bat lives in caves and rests during day time.\"\n",
        "\n",
        "  def night_behavior(self):\n",
        "    return \"Bat hunt in night and drink blood of other animals.\"\n",
        "\n",
        "class Owl(Animal):\n",
        "  def day_behavior(self):\n",
        "    return \"Owls sleeps during the day.\"\n",
        "\n",
        "  def night_behavior(self):\n",
        "    return \"Owls hunt mice in night.\""
      ],
      "metadata": {
        "id": "adsnMUJlDsiT"
      },
      "execution_count": 1,
      "outputs": []
    },
    {
      "cell_type": "code",
      "source": [
        "animals = [Lion(), Bat(), Owl()]\n",
        "for animal in animals:\n",
        "  print(animal.day_behavior())\n",
        "  print(animal.night_behavior())"
      ],
      "metadata": {
        "colab": {
          "base_uri": "https://localhost:8080/"
        },
        "id": "X16FhsZGPhtY",
        "outputId": "df4c182b-1572-4a46-dfb6-4a856911c5f4"
      },
      "execution_count": 5,
      "outputs": [
        {
          "output_type": "stream",
          "name": "stdout",
          "text": [
            "The lion hunts in the savannah.\n",
            "The lion rests under the tree at night\n",
            "Bat lives in caves and rests during day time.\n",
            "Bat hunt in night and drink blood of other animals.\n",
            "Owls sleeps during the day.\n",
            "Owls hunt mice in night.\n"
          ]
        }
      ]
    },
    {
      "cell_type": "code",
      "source": [
        "# Question 4 (Advance Question include all principles)\n",
        "\n",
        "from abc import ABC, abstractmethod\n",
        "\n",
        "# Base class\n",
        "class SmartDevice(ABC):\n",
        "  def __init__(self, device_name, status=False):\n",
        "    self.__device_name = device_name\n",
        "    self.__status = status\n",
        "\n",
        "  def turn_on(self):\n",
        "    self.__status = True\n",
        "\n",
        "  def turn_off(self):\n",
        "    self.__status = False\n",
        "\n",
        "  def get_status(self):\n",
        "    return f\"Device: {self.__device_name} is currently {self.__status}\"\n",
        "\n",
        "  @abstractmethod\n",
        "  def perform_device_action(self):\n",
        "    pass\n",
        "\n",
        "class SmartLight(SmartDevice):\n",
        "  def __init__(self, device_name, brightness=70, status=False):\n",
        "    super().__init__(device_name, status)\n",
        "    self.brightness = brightness\n",
        "\n",
        "  def set_brightness(self,level):\n",
        "    if 0 <= level <= 100:\n",
        "      self.brightness = level\n",
        "    else:\n",
        "      print(\"Error: Brightness level must be between 0 and 100.\")\n",
        "\n",
        "  def get_status(self):\n",
        "    return f\"Light is {'ON' if self.brightness > 0 else 'OFF'} at {self.brightness}% brightness\"\n",
        "\n",
        "  def perform_device_action(self):\n",
        "    self.set_brightness(85)\n",
        "\n",
        "class SmartFan(SmartDevice):\n",
        "  def __init__(self, device_name, speed=3, status=False):\n",
        "    super().__init__(device_name, status)\n",
        "    self.speed = speed\n",
        "\n",
        "  def set_level(self,level):\n",
        "    if 1 <= level <=5:\n",
        "      self.speed = level\n",
        "    else:\n",
        "      print(\"Fan speed must be 1 and 5\")\n",
        "\n",
        "  def get_status(self):\n",
        "    return f\"Fan is set to speed level {self.speed}\"\n",
        "\n",
        "  def perform_device_action(self):\n",
        "    self.set_level(4)\n",
        "\n",
        "class SmartAC(SmartDevice):\n",
        "  def __init__(self, device_name, temperature=22, status=False):\n",
        "    super().__init__(device_name, status)\n",
        "    self.temperature = temperature\n",
        "\n",
        "  def set_temperature(self,temp):\n",
        "    if 16 <= temp <= 30:\n",
        "      self.temperature = temp\n",
        "    else:\n",
        "      print(\"Error: SmartAC temperature should be in between 16°C to 30°C\")\n",
        "\n",
        "  def get_status(self):\n",
        "    return f\"AC is set to {self.temperature}°C\"\n",
        "\n",
        "  def perform_device_action(self):\n",
        "    self.set_temperature(18)\n",
        ""
      ],
      "metadata": {
        "id": "d2s0J27ETZQS"
      },
      "execution_count": 11,
      "outputs": []
    },
    {
      "cell_type": "code",
      "source": [
        "devices = [\n",
        "    SmartLight(\"Living Room Light\"),\n",
        "    SmartFan(\"Bedroom Fan\"),\n",
        "    SmartAC(\"Office AC\")\n",
        "]\n",
        "\n",
        "for device in devices:\n",
        "  device.turn_on()\n",
        "  device.perform_device_action()\n",
        "  print(device.get_status())"
      ],
      "metadata": {
        "colab": {
          "base_uri": "https://localhost:8080/"
        },
        "id": "6gp1wdkM3aqU",
        "outputId": "2ded82c8-8fd0-446e-9132-bfd26527762a"
      },
      "execution_count": 12,
      "outputs": [
        {
          "output_type": "stream",
          "name": "stdout",
          "text": [
            "Light is ON at 85% brightness\n",
            "Fan is set to speed level 4\n",
            "AC is set to 18°C\n"
          ]
        }
      ]
    }
  ]
}